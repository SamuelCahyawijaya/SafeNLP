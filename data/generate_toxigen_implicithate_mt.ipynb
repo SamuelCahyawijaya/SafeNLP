{
 "cells": [
  {
   "cell_type": "code",
   "execution_count": 1,
   "id": "764c0254-8934-495b-a8be-7ae2fc23d13d",
   "metadata": {
    "tags": []
   },
   "outputs": [
    {
     "name": "stderr",
     "output_type": "stream",
     "text": [
      "/tmp/ipykernel_2877355/847113659.py:16: FutureWarning: set_caching_enabled is deprecated and will be removed in the next major version of datasets. Use datasets.enable_caching() or datasets.disable_caching() instead. This function will be removed in a future version of datasets.\n",
      "  datasets.set_caching_enabled(False)\n"
     ]
    }
   ],
   "source": [
    "import os, sys\n",
    "os.environ['CUDA_VISIBLE_DEVICES'] = '1'\n",
    "\n",
    "from transformers import AutoModelForSeq2SeqLM, AutoTokenizer\n",
    "import datasets\n",
    "import glob\n",
    "\n",
    "import json\n",
    "import numpy as np\n",
    "import pandas as pd\n",
    "\n",
    "from tqdm import tqdm\n",
    "from tqdm.notebook import tqdm\n",
    "\n",
    "tqdm.pandas()\n",
    "datasets.set_caching_enabled(False)"
   ]
  },
  {
   "cell_type": "code",
   "execution_count": 2,
   "id": "e335b89e-11df-4ee3-9053-f3cf7b5990bf",
   "metadata": {
    "tags": []
   },
   "outputs": [
    {
     "data": {
      "application/vnd.jupyter.widget-view+json": {
       "model_id": "9a744ce2178e48fdba85fbd3d2983ed6",
       "version_major": 2,
       "version_minor": 0
      },
      "text/plain": [
       "Loading checkpoint shards:   0%|          | 0/3 [00:00<?, ?it/s]"
      ]
     },
     "metadata": {},
     "output_type": "display_data"
    }
   ],
   "source": [
    "# Load Model\n",
    "model = AutoModelForSeq2SeqLM.from_pretrained(\"facebook/nllb-200-3.3B\").to('cuda')\n",
    "tokenizer = AutoTokenizer.from_pretrained(\"facebook/nllb-200-3.3B\", src_lang='eng_Latn')"
   ]
  },
  {
   "cell_type": "markdown",
   "id": "e77f8112-02ae-47e0-9066-0e87e63f3bb7",
   "metadata": {
    "tags": []
   },
   "source": [
    "### Toxigen & Implicit Hate"
   ]
  },
  {
   "cell_type": "code",
   "execution_count": 3,
   "id": "ef667680-fba3-4a0b-a081-d4f8e58d386d",
   "metadata": {
    "scrolled": true,
    "tags": []
   },
   "outputs": [],
   "source": [
    "def translate_text(text):    \n",
    "    inputs = tokenizer(text, padding='longest', return_tensors=\"pt\").to('cuda')\n",
    "    translated_tokens = model.generate(\n",
    "        **inputs, forced_bos_token_id=tokenizer.lang_code_to_id[\"ind_Latn\"], max_length=256\n",
    "    )\n",
    "    return tokenizer.batch_decode(translated_tokens, skip_special_tokens=True)\n",
    "\n",
    "def translate_dataset(row):\n",
    "    text = row['text']\n",
    "    row['text'] = translate_text(text)\n",
    "    return row"
   ]
  },
  {
   "cell_type": "code",
   "execution_count": 4,
   "id": "6749b63b-d85a-40a3-979e-79e23be407a8",
   "metadata": {
    "tags": []
   },
   "outputs": [
    {
     "data": {
      "application/vnd.jupyter.widget-view+json": {
       "model_id": "1bcdf432eb024e3e84b5becdb4582abc",
       "version_major": 2,
       "version_minor": 0
      },
      "text/plain": [
       "Map:   0%|          | 0/6514 [00:00<?, ? examples/s]"
      ]
     },
     "metadata": {},
     "output_type": "display_data"
    },
    {
     "data": {
      "application/vnd.jupyter.widget-view+json": {
       "model_id": "fa353d1160304e6fa7eba6d5cf0b7bba",
       "version_major": 2,
       "version_minor": 0
      },
      "text/plain": [
       "Map:   0%|          | 0/14200 [00:00<?, ? examples/s]"
      ]
     },
     "metadata": {},
     "output_type": "display_data"
    }
   ],
   "source": [
    "toxigen_data, implicit_hate_data = json.load(open('toxiGen.json','r')), json.load(open('implicitHate.json', 'r'))\n",
    "toxigen_dset, implicit_hate_dset = datasets.Dataset.from_list(toxigen_data), datasets.Dataset.from_list(implicit_hate_data)\n",
    "\n",
    "toxigen_dset = toxigen_dset.map(translate_dataset, batched=True, batch_size=128)\n",
    "implicit_hate_dset = implicit_hate_dset.map(translate_dataset, batched=True, batch_size=128)\n",
    "\n",
    "json.dump(toxigen_dset.to_list(), open(f'./toxigen_ind.json', 'w'))\n",
    "json.dump(implicit_hate_dset.to_list(), open('./implicit_hate_ind.json', 'w'))"
   ]
  },
  {
   "cell_type": "code",
   "execution_count": null,
   "id": "c0cccccb-e7dc-451f-8713-a7878bcc979b",
   "metadata": {},
   "outputs": [],
   "source": []
  }
 ],
 "metadata": {
  "kernelspec": {
   "display_name": "Python (env_indot0)",
   "language": "python",
   "name": "env_indot0"
  },
  "language_info": {
   "codemirror_mode": {
    "name": "ipython",
    "version": 3
   },
   "file_extension": ".py",
   "mimetype": "text/x-python",
   "name": "python",
   "nbconvert_exporter": "python",
   "pygments_lexer": "ipython3",
   "version": "3.10.12"
  }
 },
 "nbformat": 4,
 "nbformat_minor": 5
}
